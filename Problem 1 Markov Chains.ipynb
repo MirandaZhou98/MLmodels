{
 "cells": [
  {
   "cell_type": "code",
   "execution_count": 1,
   "metadata": {},
   "outputs": [],
   "source": [
    "import numpy as np\n",
    "import pandas as pd\n",
    "from numpy import linalg as LA"
   ]
  },
  {
   "cell_type": "code",
   "execution_count": 2,
   "metadata": {},
   "outputs": [
    {
     "data": {
      "text/html": [
       "<div>\n",
       "<style scoped>\n",
       "    .dataframe tbody tr th:only-of-type {\n",
       "        vertical-align: middle;\n",
       "    }\n",
       "\n",
       "    .dataframe tbody tr th {\n",
       "        vertical-align: top;\n",
       "    }\n",
       "\n",
       "    .dataframe thead th {\n",
       "        text-align: right;\n",
       "    }\n",
       "</style>\n",
       "<table border=\"1\" class=\"dataframe\">\n",
       "  <thead>\n",
       "    <tr style=\"text-align: right;\">\n",
       "      <th></th>\n",
       "      <th>a_index</th>\n",
       "      <th>a_points</th>\n",
       "      <th>b_index</th>\n",
       "      <th>b_points</th>\n",
       "    </tr>\n",
       "  </thead>\n",
       "  <tbody>\n",
       "    <tr>\n",
       "      <th>0</th>\n",
       "      <td>695</td>\n",
       "      <td>34</td>\n",
       "      <td>141</td>\n",
       "      <td>14</td>\n",
       "    </tr>\n",
       "    <tr>\n",
       "      <th>1</th>\n",
       "      <td>392</td>\n",
       "      <td>20</td>\n",
       "      <td>218</td>\n",
       "      <td>24</td>\n",
       "    </tr>\n",
       "    <tr>\n",
       "      <th>2</th>\n",
       "      <td>29</td>\n",
       "      <td>38</td>\n",
       "      <td>270</td>\n",
       "      <td>45</td>\n",
       "    </tr>\n",
       "    <tr>\n",
       "      <th>3</th>\n",
       "      <td>721</td>\n",
       "      <td>6</td>\n",
       "      <td>531</td>\n",
       "      <td>16</td>\n",
       "    </tr>\n",
       "    <tr>\n",
       "      <th>4</th>\n",
       "      <td>769</td>\n",
       "      <td>45</td>\n",
       "      <td>560</td>\n",
       "      <td>22</td>\n",
       "    </tr>\n",
       "    <tr>\n",
       "      <th>...</th>\n",
       "      <td>...</td>\n",
       "      <td>...</td>\n",
       "      <td>...</td>\n",
       "      <td>...</td>\n",
       "    </tr>\n",
       "    <tr>\n",
       "      <th>4274</th>\n",
       "      <td>494</td>\n",
       "      <td>30</td>\n",
       "      <td>450</td>\n",
       "      <td>21</td>\n",
       "    </tr>\n",
       "    <tr>\n",
       "      <th>4275</th>\n",
       "      <td>662</td>\n",
       "      <td>30</td>\n",
       "      <td>589</td>\n",
       "      <td>13</td>\n",
       "    </tr>\n",
       "    <tr>\n",
       "      <th>4276</th>\n",
       "      <td>393</td>\n",
       "      <td>17</td>\n",
       "      <td>354</td>\n",
       "      <td>27</td>\n",
       "    </tr>\n",
       "    <tr>\n",
       "      <th>4277</th>\n",
       "      <td>304</td>\n",
       "      <td>20</td>\n",
       "      <td>469</td>\n",
       "      <td>28</td>\n",
       "    </tr>\n",
       "    <tr>\n",
       "      <th>4278</th>\n",
       "      <td>136</td>\n",
       "      <td>25</td>\n",
       "      <td>327</td>\n",
       "      <td>42</td>\n",
       "    </tr>\n",
       "  </tbody>\n",
       "</table>\n",
       "<p>4279 rows × 4 columns</p>\n",
       "</div>"
      ],
      "text/plain": [
       "      a_index  a_points  b_index  b_points\n",
       "0         695        34      141        14\n",
       "1         392        20      218        24\n",
       "2          29        38      270        45\n",
       "3         721         6      531        16\n",
       "4         769        45      560        22\n",
       "...       ...       ...      ...       ...\n",
       "4274      494        30      450        21\n",
       "4275      662        30      589        13\n",
       "4276      393        17      354        27\n",
       "4277      304        20      469        28\n",
       "4278      136        25      327        42\n",
       "\n",
       "[4279 rows x 4 columns]"
      ]
     },
     "execution_count": 2,
     "metadata": {},
     "output_type": "execute_result"
    }
   ],
   "source": [
    "scores = pd.read_csv(\"CFB2019_scores.csv\", header=None)\n",
    "scores = scores.rename(columns={0:'a_index', 1:'a_points', 2:'b_index', 3:'b_points'})\n",
    "scores"
   ]
  },
  {
   "cell_type": "code",
   "execution_count": 3,
   "metadata": {},
   "outputs": [
    {
     "data": {
      "text/html": [
       "<div>\n",
       "<style scoped>\n",
       "    .dataframe tbody tr th:only-of-type {\n",
       "        vertical-align: middle;\n",
       "    }\n",
       "\n",
       "    .dataframe tbody tr th {\n",
       "        vertical-align: top;\n",
       "    }\n",
       "\n",
       "    .dataframe thead th {\n",
       "        text-align: right;\n",
       "    }\n",
       "</style>\n",
       "<table border=\"1\" class=\"dataframe\">\n",
       "  <thead>\n",
       "    <tr style=\"text-align: right;\">\n",
       "      <th></th>\n",
       "      <th>Name</th>\n",
       "    </tr>\n",
       "  </thead>\n",
       "  <tbody>\n",
       "    <tr>\n",
       "      <th>0</th>\n",
       "      <td>AbileneChristian</td>\n",
       "    </tr>\n",
       "    <tr>\n",
       "      <th>1</th>\n",
       "      <td>AdamsSt</td>\n",
       "    </tr>\n",
       "    <tr>\n",
       "      <th>2</th>\n",
       "      <td>Adrian</td>\n",
       "    </tr>\n",
       "    <tr>\n",
       "      <th>3</th>\n",
       "      <td>AirForce</td>\n",
       "    </tr>\n",
       "    <tr>\n",
       "      <th>4</th>\n",
       "      <td>Akron</td>\n",
       "    </tr>\n",
       "    <tr>\n",
       "      <th>...</th>\n",
       "      <td>...</td>\n",
       "    </tr>\n",
       "    <tr>\n",
       "      <th>764</th>\n",
       "      <td>Wooster</td>\n",
       "    </tr>\n",
       "    <tr>\n",
       "      <th>765</th>\n",
       "      <td>WorcesterSt</td>\n",
       "    </tr>\n",
       "    <tr>\n",
       "      <th>766</th>\n",
       "      <td>Wyoming</td>\n",
       "    </tr>\n",
       "    <tr>\n",
       "      <th>767</th>\n",
       "      <td>Yale</td>\n",
       "    </tr>\n",
       "    <tr>\n",
       "      <th>768</th>\n",
       "      <td>YoungstownSt</td>\n",
       "    </tr>\n",
       "  </tbody>\n",
       "</table>\n",
       "<p>769 rows × 1 columns</p>\n",
       "</div>"
      ],
      "text/plain": [
       "                 Name\n",
       "0    AbileneChristian\n",
       "1             AdamsSt\n",
       "2              Adrian\n",
       "3            AirForce\n",
       "4               Akron\n",
       "..                ...\n",
       "764           Wooster\n",
       "765       WorcesterSt\n",
       "766           Wyoming\n",
       "767              Yale\n",
       "768      YoungstownSt\n",
       "\n",
       "[769 rows x 1 columns]"
      ]
     },
     "execution_count": 3,
     "metadata": {},
     "output_type": "execute_result"
    }
   ],
   "source": [
    "team_names = pd.read_csv('TeamNames.txt', header=None)\n",
    "team_names = team_names.rename(columns={0:'Name'})\n",
    "team_names"
   ]
  },
  {
   "cell_type": "code",
   "execution_count": 4,
   "metadata": {},
   "outputs": [
    {
     "data": {
      "text/plain": [
       "array([[0., 0., 0., ..., 0., 0., 0.],\n",
       "       [0., 0., 0., ..., 0., 0., 0.],\n",
       "       [0., 0., 0., ..., 0., 0., 0.],\n",
       "       ...,\n",
       "       [0., 0., 0., ..., 0., 0., 0.],\n",
       "       [0., 0., 0., ..., 0., 0., 0.],\n",
       "       [0., 0., 0., ..., 0., 0., 0.]])"
      ]
     },
     "execution_count": 4,
     "metadata": {},
     "output_type": "execute_result"
    }
   ],
   "source": [
    "M = np.array(pd.DataFrame(np.zeros((769, 769))))\n",
    "M"
   ]
  },
  {
   "cell_type": "code",
   "execution_count": 71,
   "metadata": {},
   "outputs": [
    {
     "data": {
      "text/plain": [
       "a_index     695\n",
       "a_points     34\n",
       "b_index     141\n",
       "b_points     14\n",
       "Name: 0, dtype: int64"
      ]
     },
     "execution_count": 71,
     "metadata": {},
     "output_type": "execute_result"
    }
   ],
   "source": [
    "scores.iloc[0]"
   ]
  },
  {
   "cell_type": "code",
   "execution_count": 5,
   "metadata": {},
   "outputs": [],
   "source": [
    "def populate_M(M, scores):\n",
    "    for i in range(len(scores)):\n",
    "        a_point = scores.iloc[i]['a_points']\n",
    "        b_point = scores.iloc[i]['b_points']\n",
    "        a_index = scores.iloc[i]['a_index'] - 1\n",
    "        b_index = scores.iloc[i]['b_index'] - 1\n",
    "\n",
    "        a_win = 0\n",
    "        b_win = 1\n",
    "        if a_point > b_point:\n",
    "            a_win = 1\n",
    "            b_win = 0\n",
    "        \n",
    "    \n",
    "        M[a_index][a_index] = M[a_index][a_index] + a_win + a_point / (a_point + b_point)\n",
    "        M[b_index][b_index] = M[b_index][b_index] + b_win + b_point / (a_point + b_point)\n",
    "        M[a_index][b_index] = M[a_index][b_index] + b_win + b_point / (a_point + b_point)\n",
    "        M[b_index][a_index] = M[b_index][a_index] + a_win + a_point / (a_point + b_point)\n",
    "        \n",
    "    return M"
   ]
  },
  {
   "cell_type": "code",
   "execution_count": 6,
   "metadata": {},
   "outputs": [],
   "source": [
    "un_M = populate_M(M, scores)"
   ]
  },
  {
   "cell_type": "code",
   "execution_count": 7,
   "metadata": {},
   "outputs": [
    {
     "data": {
      "text/plain": [
       "array([[0.44774761, 0.        , 0.        , ..., 0.        , 0.        ,\n",
       "        0.        ],\n",
       "       [0.        , 0.36792891, 0.        , ..., 0.        , 0.        ,\n",
       "        0.        ],\n",
       "       [0.        , 0.        , 0.45643088, ..., 0.        , 0.        ,\n",
       "        0.        ],\n",
       "       ...,\n",
       "       [0.        , 0.        , 0.        , ..., 0.59847937, 0.        ,\n",
       "        0.        ],\n",
       "       [0.        , 0.        , 0.        , ..., 0.        , 0.74948844,\n",
       "        0.        ],\n",
       "       [0.        , 0.        , 0.        , ..., 0.        , 0.        ,\n",
       "        0.52110898]])"
      ]
     },
     "execution_count": 7,
     "metadata": {},
     "output_type": "execute_result"
    }
   ],
   "source": [
    "un_M_df = pd.DataFrame(un_M)\n",
    "M = np.array(un_M_df.div(un_M_df.sum(axis=1), axis=0))\n",
    "M"
   ]
  },
  {
   "cell_type": "code",
   "execution_count": 8,
   "metadata": {},
   "outputs": [],
   "source": [
    "w_t = [1/769 for x in range(769)] "
   ]
  },
  {
   "cell_type": "code",
   "execution_count": 9,
   "metadata": {},
   "outputs": [],
   "source": [
    "from numpy.linalg import matrix_power\n",
    "\n",
    "def ranking(M, w_t, t):\n",
    "    temp = M.copy()\n",
    "#     for i in range(t-1):\n",
    "#         temp = temp @ M\n",
    "    temp = matrix_power(temp, t)\n",
    "    \n",
    "    w_final = np.dot(w_t, temp)\n",
    "    #try matrix power\n",
    "    \n",
    "    return w_final"
   ]
  },
  {
   "cell_type": "code",
   "execution_count": 10,
   "metadata": {},
   "outputs": [],
   "source": [
    "def get_25(vector):\n",
    "    dic = {}\n",
    "    for i in range(len(vector)):\n",
    "        dic[i] = vector[i]\n",
    "    \n",
    "    sorted_dict = dict(sorted(dic.items(), key=lambda item: item[1], reverse=True))\n",
    "    \n",
    "    \n",
    "    result = []\n",
    "    count = 0\n",
    "    for key in sorted_dict:\n",
    "        name = team_names['Name'][key]\n",
    "           \n",
    "        \n",
    "        val = sorted_dict[key]\n",
    "        result.append((name, val))\n",
    "        \n",
    "        count += 1 \n",
    "    \n",
    "        if count == 25: \n",
    "            break \n",
    "\n",
    "    return result"
   ]
  },
  {
   "cell_type": "code",
   "execution_count": 135,
   "metadata": {},
   "outputs": [
    {
     "data": {
      "text/plain": [
       "array([[0.44774761, 0.        , 0.        , ..., 0.        , 0.        ,\n",
       "        0.        ],\n",
       "       [0.        , 0.36792891, 0.        , ..., 0.        , 0.        ,\n",
       "        0.        ],\n",
       "       [0.        , 0.        , 0.45643088, ..., 0.        , 0.        ,\n",
       "        0.        ],\n",
       "       ...,\n",
       "       [0.        , 0.        , 0.        , ..., 0.59847937, 0.        ,\n",
       "        0.        ],\n",
       "       [0.        , 0.        , 0.        , ..., 0.        , 0.74948844,\n",
       "        0.        ],\n",
       "       [0.        , 0.        , 0.        , ..., 0.        , 0.        ,\n",
       "        0.52110898]])"
      ]
     },
     "execution_count": 135,
     "metadata": {},
     "output_type": "execute_result"
    }
   ],
   "source": [
    "M"
   ]
  },
  {
   "cell_type": "code",
   "execution_count": 11,
   "metadata": {},
   "outputs": [
    {
     "data": {
      "text/plain": [
       "[('NorthCentral', 0.012811767852460867),\n",
       " ('LSU', 0.012577990806785507),\n",
       " ('Morningside', 0.011511484786453766),\n",
       " ('Wheaton', 0.011088272722516583),\n",
       " ('MinnSt-Mankato', 0.00963296044743446),\n",
       " ('Muhlenberg', 0.009507044960042479),\n",
       " ('OhioState', 0.009240593084274112),\n",
       " ('UW-Whitewater', 0.009165130709944305),\n",
       " ('NorthDakotaSt', 0.009137454648190088),\n",
       " ('Clemson', 0.00894092217448242),\n",
       " ('WestFlorida', 0.00878460105492652),\n",
       " ('MarianIN', 0.008515273738045224),\n",
       " ('StJohnsMN', 0.00848769467631125),\n",
       " ('MountUnion', 0.007652927443343395),\n",
       " ('FerrisSt', 0.007121628682655154),\n",
       " ('GrandView', 0.0071139827988428),\n",
       " ('Georgia', 0.007012965844168986),\n",
       " ('MaryHardin-Baylor', 0.006777611776414177),\n",
       " ('Lenoir-Rhyne', 0.006162838698118537),\n",
       " ('SlipperyRock', 0.00608800317467403),\n",
       " ('Oregon', 0.0058998443475605546),\n",
       " ('DelawareValley', 0.005839792628737571),\n",
       " ('JamesMadison', 0.00566598298597835),\n",
       " ('ValdostaSt', 0.0055435362068387345),\n",
       " ('Florida', 0.005436735782310833)]"
      ]
     },
     "execution_count": 11,
     "metadata": {},
     "output_type": "execute_result"
    }
   ],
   "source": [
    "t_10 = ranking(M, w_t, 10)\n",
    "top_teams_10 = get_25(t_10)\n",
    "top_teams_10"
   ]
  },
  {
   "cell_type": "code",
   "execution_count": 12,
   "metadata": {},
   "outputs": [
    {
     "data": {
      "text/plain": [
       "[('LSU', 0.04364232313177087),\n",
       " ('Wheaton', 0.025821920667911235),\n",
       " ('NorthCentral', 0.024441760152520878),\n",
       " ('Clemson', 0.02370440421016095),\n",
       " ('OhioState', 0.022687728222489753),\n",
       " ('Morningside', 0.022621153936365133),\n",
       " ('Georgia', 0.01716489849355654),\n",
       " ('StJohnsMN', 0.01499009733922992),\n",
       " ('WestFlorida', 0.01336723941246717),\n",
       " ('Alabama', 0.012917325410917082),\n",
       " ('UW-Whitewater', 0.012836111009245197),\n",
       " ('Florida', 0.012439731429524006),\n",
       " ('Muhlenberg', 0.011238356823187369),\n",
       " ('Oregon', 0.010530153820536365),\n",
       " ('Auburn', 0.010020906678496849),\n",
       " ('Oklahoma', 0.010011868713871979),\n",
       " ('MinnSt-Mankato', 0.009751799868407966),\n",
       " ('MarianIN', 0.009582594797685005),\n",
       " ('PennState', 0.009533821960934136),\n",
       " ('ValdostaSt', 0.008894226807534527),\n",
       " ('Lenoir-Rhyne', 0.008070141045950465),\n",
       " ('Wisconsin', 0.008018901656650576),\n",
       " ('NotreDame', 0.007865644214156814),\n",
       " ('Minnesota', 0.007531513746172197),\n",
       " ('GrandView', 0.007521041139582095)]"
      ]
     },
     "execution_count": 12,
     "metadata": {},
     "output_type": "execute_result"
    }
   ],
   "source": [
    "t_100 = ranking(M, w_t, 100)\n",
    "top_teams_100 = get_25(t_100)\n",
    "top_teams_100"
   ]
  },
  {
   "cell_type": "code",
   "execution_count": 13,
   "metadata": {},
   "outputs": [
    {
     "data": {
      "text/plain": [
       "[('LSU', 0.0844187750480346),\n",
       " ('Clemson', 0.04552711559660788),\n",
       " ('OhioState', 0.043451799301908234),\n",
       " ('Georgia', 0.032719529809654604),\n",
       " ('Alabama', 0.024678584776023603),\n",
       " ('Florida', 0.02369629109833124),\n",
       " ('Oregon', 0.019265508881883355),\n",
       " ('Auburn', 0.019036871697742173),\n",
       " ('Oklahoma', 0.018703418705853916),\n",
       " ('PennState', 0.01797404476765587),\n",
       " ('Wisconsin', 0.01516494229208556),\n",
       " ('NotreDame', 0.014647394893991573),\n",
       " ('Minnesota', 0.014200946891226742),\n",
       " ('Baylor', 0.012703630935423975),\n",
       " ('Michigan', 0.012045194224299054),\n",
       " ('Utah', 0.011702530075842004),\n",
       " ('Memphis', 0.011663113807652215),\n",
       " ('Iowa', 0.011006082424034672),\n",
       " ('AppalachianSt', 0.010923410310336484),\n",
       " ('Texas', 0.01018694901036054),\n",
       " ('NorthDakotaSt', 0.009224407312785059),\n",
       " ('Navy', 0.0090710228807043),\n",
       " ('TexasA&M', 0.008933178700911067),\n",
       " ('BoiseSt', 0.008305811202620465),\n",
       " ('KansasSt', 0.0073342026272159265)]"
      ]
     },
     "execution_count": 13,
     "metadata": {},
     "output_type": "execute_result"
    }
   ],
   "source": [
    "t_1000 = ranking(M, w_t, 1000)\n",
    "top_teams_1000 = get_25(t_1000)\n",
    "top_teams_1000"
   ]
  },
  {
   "cell_type": "code",
   "execution_count": 14,
   "metadata": {},
   "outputs": [
    {
     "data": {
      "text/plain": [
       "[('LSU', 0.09136604712296482),\n",
       " ('Clemson', 0.04926187613634153),\n",
       " ('OhioState', 0.04700926622493168),\n",
       " ('Georgia', 0.0353816782505702),\n",
       " ('Alabama', 0.026695336839188184),\n",
       " ('Florida', 0.025624292477361525),\n",
       " ('Oregon', 0.02077912941947167),\n",
       " ('Auburn', 0.02058209234540176),\n",
       " ('Oklahoma', 0.020201641742269533),\n",
       " ('PennState', 0.01942877308356511),\n",
       " ('Wisconsin', 0.016391976713941558),\n",
       " ('NotreDame', 0.01582027362072413),\n",
       " ('Minnesota', 0.015347274013362213),\n",
       " ('Baylor', 0.01371642032166842),\n",
       " ('Michigan', 0.01302311763815205),\n",
       " ('Utah', 0.01261672661193188),\n",
       " ('Memphis', 0.012589851826569836),\n",
       " ('Iowa', 0.011893857088959436),\n",
       " ('AppalachianSt', 0.011792334371096915),\n",
       " ('Texas', 0.011003103867876693),\n",
       " ('Navy', 0.009785416171594277),\n",
       " ('NorthDakotaSt', 0.009716575910446938),\n",
       " ('TexasA&M', 0.009657875659428867),\n",
       " ('BoiseSt', 0.008943486095945856),\n",
       " ('KansasSt', 0.007915602342517803)]"
      ]
     },
     "execution_count": 14,
     "metadata": {},
     "output_type": "execute_result"
    }
   ],
   "source": [
    "t_10000 = ranking(M, w_t, 10000)\n",
    "top_teams_10000 = get_25(t_10000)\n",
    "top_teams_10000"
   ]
  },
  {
   "cell_type": "code",
   "execution_count": 48,
   "metadata": {},
   "outputs": [],
   "source": [
    "w, v = np.linalg.eig(M.T)"
   ]
  },
  {
   "cell_type": "code",
   "execution_count": 24,
   "metadata": {},
   "outputs": [],
   "source": [
    "v1 = v[:,0]"
   ]
  },
  {
   "cell_type": "code",
   "execution_count": 25,
   "metadata": {},
   "outputs": [],
   "source": [
    "w_inf = v1 / sum(v1)"
   ]
  },
  {
   "cell_type": "code",
   "execution_count": 26,
   "metadata": {},
   "outputs": [],
   "source": [
    "w_t = [1/769 for x in range(769)] \n",
    "\n",
    "diffs = []\n",
    "for t in range(10000):\n",
    "    \n",
    "    w_t = w_t @ M\n",
    "    \n",
    "    diff = np.linalg.norm(w_t - w_inf, ord=1)\n",
    "    diffs.append(diff)"
   ]
  },
  {
   "cell_type": "code",
   "execution_count": 27,
   "metadata": {},
   "outputs": [
    {
     "data": {
      "text/plain": [
       "Text(0, 0.5, 'L1 difference')"
      ]
     },
     "execution_count": 27,
     "metadata": {},
     "output_type": "execute_result"
    },
    {
     "data": {
      "image/png": "[encoded data removed]",
      "text/plain": [
       "<Figure size 432x288 with 1 Axes>"
      ]
     },
     "metadata": {
      "needs_background": "light"
     },
     "output_type": "display_data"
    }
   ],
   "source": [
    "import matplotlib.pyplot as plt\n",
    "x = np.arange(10000)\n",
    "plt.plot(x, diffs)\n",
    "plt.xlabel('iteration')\n",
    "plt.ylabel('L1 difference')"
   ]
  },
  {
   "cell_type": "code",
   "execution_count": null,
   "metadata": {},
   "outputs": [],
   "source": []
  }
 ],
 "metadata": {
  "kernelspec": {
   "display_name": "Python 3",
   "language": "python",
   "name": "python3"
  },
  "language_info": {
   "codemirror_mode": {
    "name": "ipython",
    "version": 3
   },
   "file_extension": ".py",
   "mimetype": "text/x-python",
   "name": "python",
   "nbconvert_exporter": "python",
   "pygments_lexer": "ipython3",
   "version": "3.8.5"
  }
 },
 "nbformat": 4,
 "nbformat_minor": 4
}
