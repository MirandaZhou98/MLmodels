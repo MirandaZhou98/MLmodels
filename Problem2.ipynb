{
 "cells": [
  {
   "cell_type": "code",
   "execution_count": 53,
   "metadata": {},
   "outputs": [],
   "source": [
    "import pandas as pd\n",
    "import numpy as np\n",
    "import math\n",
    "import matplotlib.pyplot as plt\n",
    "from sklearn.metrics import confusion_matrix"
   ]
  },
  {
   "cell_type": "code",
   "execution_count": 293,
   "metadata": {},
   "outputs": [],
   "source": [
    "X = pd.read_csv(\"./X.csv\",header=None)"
   ]
  },
  {
   "cell_type": "code",
   "execution_count": 294,
   "metadata": {},
   "outputs": [],
   "source": [
    "y = pd.read_csv(\"./y.csv\",header=None)"
   ]
  },
  {
   "cell_type": "code",
   "execution_count": 35,
   "metadata": {},
   "outputs": [],
   "source": [
    "def split_data(X, y):\n",
    "    #return: list with 10 dataframes that contain X+y\n",
    "    X[\"y\"] = y\n",
    "    shuffled = X.sample(frac=1, random_state=1)\n",
    "    result = np.array_split(shuffled, 10)\n",
    "    return result"
   ]
  },
  {
   "cell_type": "code",
   "execution_count": 6,
   "metadata": {},
   "outputs": [],
   "source": [
    "def get_pi (train_df):\n",
    "    return np.mean(train_df[\"y\"])"
   ]
  },
  {
   "cell_type": "code",
   "execution_count": 9,
   "metadata": {},
   "outputs": [],
   "source": [
    "def get_lambda (column):\n",
    "    #takes one column d, returns lambda for that column\n",
    "    #column should be of only class y\n",
    "    return (np.sum(column) + 1) / (len(column) + 1)"
   ]
  },
  {
   "cell_type": "code",
   "execution_count": 10,
   "metadata": {},
   "outputs": [],
   "source": [
    "def predictions(train_df, test_df):\n",
    "    bern = get_pi(train_df)\n",
    "\n",
    "    df_for_class_0 = train_df[train_df['y'] == 0]\n",
    "    df_for_class_1 = train_df[train_df['y'] == 1]\n",
    "\n",
    "    lambdas_1 = []\n",
    "    for (columnName, columnData) in df_for_class_1.iteritems():\n",
    "        lambda_col = get_lambda(columnData)\n",
    "        lambdas_1.append(lambda_col)\n",
    "\n",
    "    lambdas_0 = []\n",
    "    for (columnName, columnData) in df_for_class_0.iteritems():\n",
    "        lambda_col = get_lambda(columnData)\n",
    "        lambdas_0.append(lambda_col)\n",
    "\n",
    "    y_test = test_df[\"y\"]\n",
    "    x_test = test_df.drop(columns=\"y\")\n",
    "#     print(x_test)\n",
    "\n",
    "    pred_y = []\n",
    "    for i in range(len(x_test)):\n",
    "        row = x_test.iloc[i]\n",
    "\n",
    "        # calc for class 0\n",
    "\n",
    "        product = 1\n",
    "        for j in range(len(row)):\n",
    "            lam = lambdas_0[j]\n",
    "            temp = math.exp(-lam) * (lam ** row[j])\n",
    "            product = temp * product\n",
    "        value_0 = bern * product\n",
    "\n",
    "        # calc for class 1\n",
    "\n",
    "        product = 1\n",
    "        for j in range(len(row)):\n",
    "            lam = lambdas_1[j]\n",
    "            temp = math.exp(-lam) * (lam ** row[j])\n",
    "            product = temp * product\n",
    "        value_1 = bern * product\n",
    "\n",
    "        if value_0 > value_1:\n",
    "            pred_y.append(0)\n",
    "        else:\n",
    "            pred_y.append(1)\n",
    "\n",
    "    return pred_y"
   ]
  },
  {
   "cell_type": "code",
   "execution_count": 40,
   "metadata": {},
   "outputs": [],
   "source": [
    "def combine_tests(split_df):\n",
    "    #takes in result of split_data\n",
    "    tn_c = 0\n",
    "    fp_c = 0\n",
    "    fn_c = 0\n",
    "    tp_c = 0\n",
    "    \n",
    "    for i in range(len(split_df)): #1-10\n",
    "        counter = [0,1,2,3,4,5,6,7,8,9]\n",
    "        test = split_df[i]\n",
    "        \n",
    "        train_list = np.delete(counter, i)\n",
    "        train = split_df[train_list[0]]\n",
    "        \n",
    "        bern_prior = get_pi(train)\n",
    "        train_list = np.delete(train_list, 0)\n",
    "        for j in train_list:\n",
    "\n",
    "            train = train.append(split_df[j])\n",
    "        \n",
    "        #running test\n",
    "        y_pred = predictions(train, test)\n",
    "        y_actual = test[\"y\"]\n",
    "        \n",
    "        CM = confusion_matrix(y_actual, y_pred)\n",
    "        tn, fp, fn, tp = CM.ravel()\n",
    "        tn_c = tn_c + tn\n",
    "        fp_c = fp_c + fp\n",
    "        fn_c = fn_c + fn\n",
    "        tp_c = tp_c + tp\n",
    "    return [[tn_c, fp_c],[fn_c, tp_c]]"
   ]
  },
  {
   "cell_type": "code",
   "execution_count": 41,
   "metadata": {},
   "outputs": [
    {
     "name": "stderr",
     "output_type": "stream",
     "text": [
      "<ipython-input-10-37cb03bdbd8c>:30: RuntimeWarning: overflow encountered in double_scalars\n",
      "  temp = math.exp(-lam) * (lam ** row[j])\n",
      "<ipython-input-10-37cb03bdbd8c>:30: RuntimeWarning: overflow encountered in double_scalars\n",
      "  temp = math.exp(-lam) * (lam ** row[j])\n",
      "<ipython-input-10-37cb03bdbd8c>:30: RuntimeWarning: overflow encountered in double_scalars\n",
      "  temp = math.exp(-lam) * (lam ** row[j])\n"
     ]
    },
    {
     "data": {
      "text/plain": [
       "[[2289, 498], [99, 1714]]"
      ]
     },
     "execution_count": 41,
     "metadata": {},
     "output_type": "execute_result"
    }
   ],
   "source": [
    "df = split_data(X, y)\n",
    "combine_tests(df)"
   ]
  },
  {
   "cell_type": "markdown",
   "metadata": {},
   "source": [
    "## part b"
   ]
  },
  {
   "cell_type": "code",
   "execution_count": 88,
   "metadata": {},
   "outputs": [],
   "source": [
    "def lambda_parameters(train_df, test_df):\n",
    "    bern = get_pi(train_df)\n",
    "\n",
    "    df_for_class_0 = train_df[train_df['y'] == 0]\n",
    "    df_for_class_1 = train_df[train_df['y'] == 1]\n",
    "    \n",
    "    df_for_class_1 = df_for_class_1.drop(columns=\"y\")\n",
    "    lambdas_1 = []\n",
    "    for (columnName, columnData) in df_for_class_1.iteritems():\n",
    "        lambda_col = get_lambda(columnData)\n",
    "        lambdas_1.append(lambda_col)\n",
    "    \n",
    "    df_for_class_0 = df_for_class_0.drop(columns=\"y\")\n",
    "    lambdas_0 = []\n",
    "    for (columnName, columnData) in df_for_class_0.iteritems():\n",
    "        lambda_col = get_lambda(columnData)\n",
    "        lambdas_0.append(lambda_col)\n",
    "    \n",
    "    return lambdas_0, lambdas_1"
   ]
  },
  {
   "cell_type": "code",
   "execution_count": 89,
   "metadata": {},
   "outputs": [],
   "source": [
    "def show_lambdas(split_df):\n",
    "    #takes in result of split_data\n",
    "    arr0 = []\n",
    "    arr1 = []\n",
    "    for i in range(len(split_df)): #1-10\n",
    "        counter = [0,1,2,3,4,5,6,7,8,9]\n",
    "        test = split_df[i]\n",
    "#         print(\"test index\",i)\n",
    "        \n",
    "        train_list = np.delete(counter, i)\n",
    "        train = split_df[train_list[0]]\n",
    "        \n",
    "        bern_prior = get_pi(train)\n",
    "#         print(\"trainList\", train_list)\n",
    "        train_list = np.delete(train_list, 0)\n",
    "        for j in train_list:\n",
    "\n",
    "            train = train.append(split_df[j])\n",
    "#             print(\"appended\", j)\n",
    "        \n",
    "        lam_0, lam_1 = lambda_parameters(train, test)\n",
    "        arr0.append(lam_0)\n",
    "        arr1.append(lam_1)\n",
    "    l_0 = np.mean(arr0, axis=0)\n",
    "    l_1 = np.mean(arr1, axis=0)\n",
    "    return l_0, l_1"
   ]
  },
  {
   "cell_type": "code",
   "execution_count": 90,
   "metadata": {},
   "outputs": [],
   "source": [
    "class_0L, class_1L = show_lambdas(df)"
   ]
  },
  {
   "cell_type": "code",
   "execution_count": 91,
   "metadata": {},
   "outputs": [
    {
     "data": {
      "text/plain": [
       "<StemContainer object of 3 artists>"
      ]
     },
     "execution_count": 91,
     "metadata": {},
     "output_type": "execute_result"
    },
    {
     "data": {
      "image/png": "[encoded data removed]",
      "text/plain": [
       "<Figure size 432x288 with 1 Axes>"
      ]
     },
     "metadata": {
      "needs_background": "light"
     },
     "output_type": "display_data"
    }
   ],
   "source": [
    "x = np.arange(54)\n",
    "y = class_0L\n",
    "plt.stem(x, y)"
   ]
  },
  {
   "cell_type": "code",
   "execution_count": 92,
   "metadata": {},
   "outputs": [
    {
     "data": {
      "text/plain": [
       "<StemContainer object of 3 artists>"
      ]
     },
     "execution_count": 92,
     "metadata": {},
     "output_type": "execute_result"
    },
    {
     "data": {
      "image/png": "[encoded data removed]",
      "text/plain": [
       "<Figure size 432x288 with 1 Axes>"
      ]
     },
     "metadata": {
      "needs_background": "light"
     },
     "output_type": "display_data"
    }
   ],
   "source": [
    "y_1 = class_1L\n",
    "plt.stem(x, y_1)"
   ]
  },
  {
   "cell_type": "markdown",
   "metadata": {},
   "source": [
    "## part c"
   ]
  },
  {
   "cell_type": "code",
   "execution_count": 235,
   "metadata": {},
   "outputs": [],
   "source": [
    "result = split_data(X, y)\n",
    "train = result[0].append(result[1]).append(result[2]).append(result[3]).append(result[4]).append(result[5]).append(result[6]).append(result[7]).append(result[8])\n",
    "test = result[9]"
   ]
  },
  {
   "cell_type": "code",
   "execution_count": 237,
   "metadata": {},
   "outputs": [],
   "source": [
    "train.loc[(train.y == 0),'y']=-1"
   ]
  },
  {
   "cell_type": "code",
   "execution_count": 154,
   "metadata": {},
   "outputs": [],
   "source": [
    "y_train = pd.DataFrame(train[\"y\"])\n",
    "X_train = train.drop(columns=\"y\")"
   ]
  },
  {
   "cell_type": "code",
   "execution_count": 157,
   "metadata": {},
   "outputs": [],
   "source": [
    "def sigmoid (link_fxn):\n",
    "    return np.exp(link_fxn) / (1+np.exp(link_fxn))"
   ]
  },
  {
   "cell_type": "code",
   "execution_count": 158,
   "metadata": {},
   "outputs": [],
   "source": [
    "w = np.zeros(X_train.shape[1])"
   ]
  },
  {
   "cell_type": "code",
   "execution_count": 179,
   "metadata": {},
   "outputs": [],
   "source": [
    "def L(X, y, w):\n",
    "    #objective training function\n",
    "    #take in X_train and y_train df\n",
    "    sum = 0\n",
    "    for i in range(len(y[\"y\"])):\n",
    "        link_fxn = np.dot(X.iloc[i].T, w)\n",
    "        if y[\"y\"].iloc[i] == 1:\n",
    "            sum = sum + np.log(sigmoid(link_fxn))\n",
    "        else:\n",
    "            sum = sum + np.log(1 - sigmoid(link_fxn))\n",
    "    return sum\n",
    "            "
   ]
  },
  {
   "cell_type": "code",
   "execution_count": 191,
   "metadata": {},
   "outputs": [],
   "source": [
    "def sigmoid_helper(X_row, y_value, w):\n",
    "    link_fxn = np.dot(X_row.T, w)\n",
    "    if y_value == 1:\n",
    "        return sigmoid(link_fxn)\n",
    "    else:\n",
    "        return 1 - sigmoid(link_fxn)"
   ]
  },
  {
   "cell_type": "code",
   "execution_count": 212,
   "metadata": {},
   "outputs": [],
   "source": [
    "def logistic_regression(X, y, iterations=1000, step_size=0.01/4600):\n",
    "    w = np.zeros(X.shape[1])\n",
    "    L_funcs = []\n",
    "    for iteration in range(iterations):\n",
    "        l = L(X, y, w)\n",
    "        L_funcs.append(l)\n",
    "        \n",
    "        \n",
    "        gradient = np.zeros(X.shape[1])\n",
    "        for i in range(len(y[\"y\"])):\n",
    "            y_i = y[\"y\"].iloc[i]\n",
    "            x_i = X.iloc[i]\n",
    "            sum_temp = (1-sigmoid_helper(x_i, y_i, w)) * y_i * x_i\n",
    "            gradient = gradient + sum_temp\n",
    "        w = w + step_size * gradient\n",
    "        if iteration % 25 == 0:\n",
    "            print(\"finished iteration:\", iteration)\n",
    "    return w, L_funcs"
   ]
  },
  {
   "cell_type": "code",
   "execution_count": 204,
   "metadata": {},
   "outputs": [
    {
     "name": "stdout",
     "output_type": "stream",
     "text": [
      "finished iteration: 0\n",
      "finished iteration: 25\n",
      "finished iteration: 50\n",
      "finished iteration: 75\n",
      "finished iteration: 100\n",
      "finished iteration: 125\n",
      "finished iteration: 150\n",
      "finished iteration: 175\n",
      "finished iteration: 200\n",
      "finished iteration: 225\n",
      "finished iteration: 250\n",
      "finished iteration: 275\n",
      "finished iteration: 300\n",
      "finished iteration: 325\n",
      "finished iteration: 350\n",
      "finished iteration: 375\n",
      "finished iteration: 400\n",
      "finished iteration: 425\n",
      "finished iteration: 450\n",
      "finished iteration: 475\n",
      "finished iteration: 500\n",
      "finished iteration: 525\n",
      "finished iteration: 550\n",
      "finished iteration: 575\n"
     ]
    }
   ],
   "source": [
    "w_9, l_funcs_9 = logistic_regression(X_train, y_train, 600)"
   ]
  },
  {
   "cell_type": "code",
   "execution_count": 214,
   "metadata": {},
   "outputs": [
    {
     "name": "stdout",
     "output_type": "stream",
     "text": [
      "finished iteration: 0\n",
      "finished iteration: 25\n",
      "finished iteration: 50\n",
      "finished iteration: 75\n",
      "finished iteration: 100\n",
      "finished iteration: 125\n",
      "finished iteration: 150\n",
      "finished iteration: 175\n",
      "finished iteration: 200\n",
      "finished iteration: 225\n",
      "finished iteration: 250\n",
      "finished iteration: 275\n",
      "finished iteration: 300\n",
      "finished iteration: 325\n",
      "finished iteration: 350\n",
      "finished iteration: 375\n",
      "finished iteration: 400\n",
      "finished iteration: 425\n",
      "finished iteration: 450\n",
      "finished iteration: 475\n",
      "finished iteration: 500\n",
      "finished iteration: 525\n",
      "finished iteration: 550\n",
      "finished iteration: 575\n"
     ]
    }
   ],
   "source": [
    "train = result[0].append(result[1]).append(result[2]).append(result[3]).append(result[4]).append(result[5]).append(result[6]).append(result[7]).append(result[9])\n",
    "train.loc[(train.y == 0),'y']=-1\n",
    "test = result[8]\n",
    "\n",
    "y_train = pd.DataFrame(train[\"y\"])\n",
    "X_train = train.drop(columns=\"y\")\n",
    "w_8, l_funcs_8 = logistic_regression(X_train, y_train, 600)"
   ]
  },
  {
   "cell_type": "code",
   "execution_count": 215,
   "metadata": {},
   "outputs": [
    {
     "name": "stdout",
     "output_type": "stream",
     "text": [
      "finished iteration: 0\n",
      "finished iteration: 25\n",
      "finished iteration: 50\n",
      "finished iteration: 75\n",
      "finished iteration: 100\n",
      "finished iteration: 125\n",
      "finished iteration: 150\n",
      "finished iteration: 175\n",
      "finished iteration: 200\n",
      "finished iteration: 225\n",
      "finished iteration: 250\n",
      "finished iteration: 275\n",
      "finished iteration: 300\n",
      "finished iteration: 325\n",
      "finished iteration: 350\n",
      "finished iteration: 375\n",
      "finished iteration: 400\n",
      "finished iteration: 425\n",
      "finished iteration: 450\n",
      "finished iteration: 475\n",
      "finished iteration: 500\n",
      "finished iteration: 525\n",
      "finished iteration: 550\n",
      "finished iteration: 575\n"
     ]
    }
   ],
   "source": [
    "train = result[0].append(result[1]).append(result[2]).append(result[3]).append(result[4]).append(result[5]).append(result[6]).append(result[8]).append(result[9])\n",
    "train.loc[(train.y == 0),'y']=-1\n",
    "test = result[7]\n",
    "\n",
    "y_train = pd.DataFrame(train[\"y\"])\n",
    "X_train = train.drop(columns=\"y\")\n",
    "w_7, l_funcs_7 = logistic_regression(X_train, y_train, 600)"
   ]
  },
  {
   "cell_type": "code",
   "execution_count": 216,
   "metadata": {},
   "outputs": [
    {
     "name": "stdout",
     "output_type": "stream",
     "text": [
      "finished iteration: 0\n",
      "finished iteration: 25\n",
      "finished iteration: 50\n",
      "finished iteration: 75\n",
      "finished iteration: 100\n",
      "finished iteration: 125\n",
      "finished iteration: 150\n",
      "finished iteration: 175\n",
      "finished iteration: 200\n",
      "finished iteration: 225\n",
      "finished iteration: 250\n",
      "finished iteration: 275\n",
      "finished iteration: 300\n",
      "finished iteration: 325\n",
      "finished iteration: 350\n",
      "finished iteration: 375\n",
      "finished iteration: 400\n",
      "finished iteration: 425\n",
      "finished iteration: 450\n",
      "finished iteration: 475\n",
      "finished iteration: 500\n",
      "finished iteration: 525\n",
      "finished iteration: 550\n",
      "finished iteration: 575\n"
     ]
    }
   ],
   "source": [
    "train = result[0].append(result[1]).append(result[2]).append(result[3]).append(result[4]).append(result[5]).append(result[7]).append(result[8]).append(result[9])\n",
    "train.loc[(train.y == 0),'y']=-1\n",
    "test = result[6]\n",
    "\n",
    "y_train = pd.DataFrame(train[\"y\"])\n",
    "X_train = train.drop(columns=\"y\")\n",
    "w_6, l_funcs_6 = logistic_regression(X_train, y_train, 600)"
   ]
  },
  {
   "cell_type": "code",
   "execution_count": 217,
   "metadata": {},
   "outputs": [
    {
     "name": "stdout",
     "output_type": "stream",
     "text": [
      "finished iteration: 0\n"
     ]
    },
    {
     "ename": "KeyboardInterrupt",
     "evalue": "",
     "output_type": "error",
     "traceback": [
      "\u001b[0;31m---------------------------------------------------------------------------\u001b[0m",
      "\u001b[0;31mKeyboardInterrupt\u001b[0m                         Traceback (most recent call last)",
      "\u001b[0;32m<ipython-input-217-4ff6650c9604>\u001b[0m in \u001b[0;36m<module>\u001b[0;34m\u001b[0m\n\u001b[1;32m      5\u001b[0m \u001b[0my_train\u001b[0m \u001b[0;34m=\u001b[0m \u001b[0mpd\u001b[0m\u001b[0;34m.\u001b[0m\u001b[0mDataFrame\u001b[0m\u001b[0;34m(\u001b[0m\u001b[0mtrain\u001b[0m\u001b[0;34m[\u001b[0m\u001b[0;34m\"y\"\u001b[0m\u001b[0;34m]\u001b[0m\u001b[0;34m)\u001b[0m\u001b[0;34m\u001b[0m\u001b[0;34m\u001b[0m\u001b[0m\n\u001b[1;32m      6\u001b[0m \u001b[0mX_train\u001b[0m \u001b[0;34m=\u001b[0m \u001b[0mtrain\u001b[0m\u001b[0;34m.\u001b[0m\u001b[0mdrop\u001b[0m\u001b[0;34m(\u001b[0m\u001b[0mcolumns\u001b[0m\u001b[0;34m=\u001b[0m\u001b[0;34m\"y\"\u001b[0m\u001b[0;34m)\u001b[0m\u001b[0;34m\u001b[0m\u001b[0;34m\u001b[0m\u001b[0m\n\u001b[0;32m----> 7\u001b[0;31m \u001b[0mw_5\u001b[0m\u001b[0;34m,\u001b[0m \u001b[0ml_funcs_5\u001b[0m \u001b[0;34m=\u001b[0m \u001b[0mlogistic_regression\u001b[0m\u001b[0;34m(\u001b[0m\u001b[0mX_train\u001b[0m\u001b[0;34m,\u001b[0m \u001b[0my_train\u001b[0m\u001b[0;34m,\u001b[0m \u001b[0;36m600\u001b[0m\u001b[0;34m)\u001b[0m\u001b[0;34m\u001b[0m\u001b[0;34m\u001b[0m\u001b[0m\n\u001b[0m",
      "\u001b[0;32m<ipython-input-212-d3cceaa35e06>\u001b[0m in \u001b[0;36mlogistic_regression\u001b[0;34m(X, y, iterations, step_size)\u001b[0m\n\u001b[1;32m     12\u001b[0m             \u001b[0mx_i\u001b[0m \u001b[0;34m=\u001b[0m \u001b[0mX\u001b[0m\u001b[0;34m.\u001b[0m\u001b[0miloc\u001b[0m\u001b[0;34m[\u001b[0m\u001b[0mi\u001b[0m\u001b[0;34m]\u001b[0m\u001b[0;34m\u001b[0m\u001b[0;34m\u001b[0m\u001b[0m\n\u001b[1;32m     13\u001b[0m             \u001b[0msum_temp\u001b[0m \u001b[0;34m=\u001b[0m \u001b[0;34m(\u001b[0m\u001b[0;36m1\u001b[0m\u001b[0;34m-\u001b[0m\u001b[0msigmoid_helper\u001b[0m\u001b[0;34m(\u001b[0m\u001b[0mx_i\u001b[0m\u001b[0;34m,\u001b[0m \u001b[0my_i\u001b[0m\u001b[0;34m,\u001b[0m \u001b[0mw\u001b[0m\u001b[0;34m)\u001b[0m\u001b[0;34m)\u001b[0m \u001b[0;34m*\u001b[0m \u001b[0my_i\u001b[0m \u001b[0;34m*\u001b[0m \u001b[0mx_i\u001b[0m\u001b[0;34m\u001b[0m\u001b[0;34m\u001b[0m\u001b[0m\n\u001b[0;32m---> 14\u001b[0;31m             \u001b[0mgradient\u001b[0m \u001b[0;34m=\u001b[0m \u001b[0mgradient\u001b[0m \u001b[0;34m+\u001b[0m \u001b[0msum_temp\u001b[0m\u001b[0;34m\u001b[0m\u001b[0;34m\u001b[0m\u001b[0m\n\u001b[0m\u001b[1;32m     15\u001b[0m         \u001b[0mw\u001b[0m \u001b[0;34m=\u001b[0m \u001b[0mw\u001b[0m \u001b[0;34m+\u001b[0m \u001b[0mstep_size\u001b[0m \u001b[0;34m*\u001b[0m \u001b[0mgradient\u001b[0m\u001b[0;34m\u001b[0m\u001b[0;34m\u001b[0m\u001b[0m\n\u001b[1;32m     16\u001b[0m         \u001b[0;32mif\u001b[0m \u001b[0miteration\u001b[0m \u001b[0;34m%\u001b[0m \u001b[0;36m25\u001b[0m \u001b[0;34m==\u001b[0m \u001b[0;36m0\u001b[0m\u001b[0;34m:\u001b[0m\u001b[0;34m\u001b[0m\u001b[0;34m\u001b[0m\u001b[0m\n",
      "\u001b[0;32m~/opt/anaconda3/lib/python3.8/site-packages/pandas/core/ops/common.py\u001b[0m in \u001b[0;36mnew_method\u001b[0;34m(self, other)\u001b[0m\n\u001b[1;32m     63\u001b[0m         \u001b[0mother\u001b[0m \u001b[0;34m=\u001b[0m \u001b[0mitem_from_zerodim\u001b[0m\u001b[0;34m(\u001b[0m\u001b[0mother\u001b[0m\u001b[0;34m)\u001b[0m\u001b[0;34m\u001b[0m\u001b[0;34m\u001b[0m\u001b[0m\n\u001b[1;32m     64\u001b[0m \u001b[0;34m\u001b[0m\u001b[0m\n\u001b[0;32m---> 65\u001b[0;31m         \u001b[0;32mreturn\u001b[0m \u001b[0mmethod\u001b[0m\u001b[0;34m(\u001b[0m\u001b[0mself\u001b[0m\u001b[0;34m,\u001b[0m \u001b[0mother\u001b[0m\u001b[0;34m)\u001b[0m\u001b[0;34m\u001b[0m\u001b[0;34m\u001b[0m\u001b[0m\n\u001b[0m\u001b[1;32m     66\u001b[0m \u001b[0;34m\u001b[0m\u001b[0m\n\u001b[1;32m     67\u001b[0m     \u001b[0;32mreturn\u001b[0m \u001b[0mnew_method\u001b[0m\u001b[0;34m\u001b[0m\u001b[0;34m\u001b[0m\u001b[0m\n",
      "\u001b[0;32m~/opt/anaconda3/lib/python3.8/site-packages/pandas/core/ops/__init__.py\u001b[0m in \u001b[0;36mwrapper\u001b[0;34m(left, right)\u001b[0m\n\u001b[1;32m    341\u001b[0m         \u001b[0mlvalues\u001b[0m \u001b[0;34m=\u001b[0m \u001b[0mextract_array\u001b[0m\u001b[0;34m(\u001b[0m\u001b[0mleft\u001b[0m\u001b[0;34m,\u001b[0m \u001b[0mextract_numpy\u001b[0m\u001b[0;34m=\u001b[0m\u001b[0;32mTrue\u001b[0m\u001b[0;34m)\u001b[0m\u001b[0;34m\u001b[0m\u001b[0;34m\u001b[0m\u001b[0m\n\u001b[1;32m    342\u001b[0m         \u001b[0mrvalues\u001b[0m \u001b[0;34m=\u001b[0m \u001b[0mextract_array\u001b[0m\u001b[0;34m(\u001b[0m\u001b[0mright\u001b[0m\u001b[0;34m,\u001b[0m \u001b[0mextract_numpy\u001b[0m\u001b[0;34m=\u001b[0m\u001b[0;32mTrue\u001b[0m\u001b[0;34m)\u001b[0m\u001b[0;34m\u001b[0m\u001b[0;34m\u001b[0m\u001b[0m\n\u001b[0;32m--> 343\u001b[0;31m         \u001b[0mresult\u001b[0m \u001b[0;34m=\u001b[0m \u001b[0marithmetic_op\u001b[0m\u001b[0;34m(\u001b[0m\u001b[0mlvalues\u001b[0m\u001b[0;34m,\u001b[0m \u001b[0mrvalues\u001b[0m\u001b[0;34m,\u001b[0m \u001b[0mop\u001b[0m\u001b[0;34m)\u001b[0m\u001b[0;34m\u001b[0m\u001b[0;34m\u001b[0m\u001b[0m\n\u001b[0m\u001b[1;32m    344\u001b[0m \u001b[0;34m\u001b[0m\u001b[0m\n\u001b[1;32m    345\u001b[0m         \u001b[0;32mreturn\u001b[0m \u001b[0mleft\u001b[0m\u001b[0;34m.\u001b[0m\u001b[0m_construct_result\u001b[0m\u001b[0;34m(\u001b[0m\u001b[0mresult\u001b[0m\u001b[0;34m,\u001b[0m \u001b[0mname\u001b[0m\u001b[0;34m=\u001b[0m\u001b[0mres_name\u001b[0m\u001b[0;34m)\u001b[0m\u001b[0;34m\u001b[0m\u001b[0;34m\u001b[0m\u001b[0m\n",
      "\u001b[0;32m~/opt/anaconda3/lib/python3.8/site-packages/pandas/core/ops/array_ops.py\u001b[0m in \u001b[0;36marithmetic_op\u001b[0;34m(left, right, op)\u001b[0m\n\u001b[1;32m    158\u001b[0m \u001b[0;34m\u001b[0m\u001b[0m\n\u001b[1;32m    159\u001b[0m \u001b[0;34m\u001b[0m\u001b[0m\n\u001b[0;32m--> 160\u001b[0;31m \u001b[0;32mdef\u001b[0m \u001b[0marithmetic_op\u001b[0m\u001b[0;34m(\u001b[0m\u001b[0mleft\u001b[0m\u001b[0;34m:\u001b[0m \u001b[0mArrayLike\u001b[0m\u001b[0;34m,\u001b[0m \u001b[0mright\u001b[0m\u001b[0;34m:\u001b[0m \u001b[0mAny\u001b[0m\u001b[0;34m,\u001b[0m \u001b[0mop\u001b[0m\u001b[0;34m)\u001b[0m\u001b[0;34m:\u001b[0m\u001b[0;34m\u001b[0m\u001b[0;34m\u001b[0m\u001b[0m\n\u001b[0m\u001b[1;32m    161\u001b[0m     \"\"\"\n\u001b[1;32m    162\u001b[0m     \u001b[0mEvaluate\u001b[0m \u001b[0man\u001b[0m \u001b[0marithmetic\u001b[0m \u001b[0moperation\u001b[0m\u001b[0;31m \u001b[0m\u001b[0;31m`\u001b[0m\u001b[0;34m+\u001b[0m\u001b[0;31m`\u001b[0m\u001b[0;34m,\u001b[0m\u001b[0;31m \u001b[0m\u001b[0;31m`\u001b[0m\u001b[0;34m-\u001b[0m\u001b[0;31m`\u001b[0m\u001b[0;34m,\u001b[0m\u001b[0;31m \u001b[0m\u001b[0;31m`\u001b[0m\u001b[0;34m*\u001b[0m\u001b[0;31m`\u001b[0m\u001b[0;34m,\u001b[0m\u001b[0;31m \u001b[0m\u001b[0;31m`\u001b[0m\u001b[0;34m/\u001b[0m\u001b[0;31m`\u001b[0m\u001b[0;34m,\u001b[0m\u001b[0;31m \u001b[0m\u001b[0;31m`\u001b[0m\u001b[0;34m//\u001b[0m\u001b[0;31m`\u001b[0m\u001b[0;34m,\u001b[0m\u001b[0;31m \u001b[0m\u001b[0;31m`\u001b[0m\u001b[0;34m%\u001b[0m\u001b[0;31m`\u001b[0m\u001b[0;34m,\u001b[0m\u001b[0;31m \u001b[0m\u001b[0;31m`\u001b[0m\u001b[0;34m**\u001b[0m\u001b[0;31m`\u001b[0m\u001b[0;34m,\u001b[0m \u001b[0;34m...\u001b[0m\u001b[0;34m\u001b[0m\u001b[0;34m\u001b[0m\u001b[0m\n",
      "\u001b[0;31mKeyboardInterrupt\u001b[0m: "
     ]
    }
   ],
   "source": [
    "train = result[0].append(result[1]).append(result[2]).append(result[3]).append(result[4]).append(result[6]).append(result[7]).append(result[8]).append(result[9])\n",
    "train.loc[(train.y == 0),'y']=-1\n",
    "test = result[5]\n",
    "\n",
    "y_train = pd.DataFrame(train[\"y\"])\n",
    "X_train = train.drop(columns=\"y\")\n",
    "w_5, l_funcs_5 = logistic_regression(X_train, y_train, 600)"
   ]
  },
  {
   "cell_type": "code",
   "execution_count": null,
   "metadata": {},
   "outputs": [],
   "source": [
    "train = result[0].append(result[1]).append(result[2]).append(result[3]).append(result[5]).append(result[6]).append(result[7]).append(result[8]).append(result[9])\n",
    "train.loc[(train.y == 0),'y']=-1\n",
    "test = result[4]\n",
    "\n",
    "y_train = pd.DataFrame(train[\"y\"])\n",
    "X_train = train.drop(columns=\"y\")\n",
    "w_4, l_funcs_4 = logistic_regression(X_train, y_train, 600)"
   ]
  },
  {
   "cell_type": "code",
   "execution_count": null,
   "metadata": {},
   "outputs": [],
   "source": [
    "train = result[0].append(result[1]).append(result[2]).append(result[4]).append(result[5]).append(result[6]).append(result[7]).append(result[8]).append(result[9])\n",
    "train.loc[(train.y == 0),'y']=-1\n",
    "test = result[3]\n",
    "\n",
    "y_train = pd.DataFrame(train[\"y\"])\n",
    "X_train = train.drop(columns=\"y\")\n",
    "w_3, l_funcs_3 = logistic_regression(X_train, y_train, 600)"
   ]
  },
  {
   "cell_type": "code",
   "execution_count": null,
   "metadata": {},
   "outputs": [],
   "source": [
    "train = result[0].append(result[1]).append(result[3]).append(result[4]).append(result[5]).append(result[6]).append(result[7]).append(result[8]).append(result[9])\n",
    "train.loc[(train.y == 0),'y']=-1\n",
    "test = result[2]\n",
    "\n",
    "y_train = pd.DataFrame(train[\"y\"])\n",
    "X_train = train.drop(columns=\"y\")\n",
    "w_2, l_funcs_2 = logistic_regression(X_train, y_train, 600)"
   ]
  },
  {
   "cell_type": "code",
   "execution_count": 222,
   "metadata": {},
   "outputs": [
    {
     "name": "stdout",
     "output_type": "stream",
     "text": [
      "finished iteration: 0\n",
      "finished iteration: 25\n",
      "finished iteration: 50\n",
      "finished iteration: 75\n",
      "finished iteration: 100\n",
      "finished iteration: 125\n"
     ]
    },
    {
     "ename": "KeyboardInterrupt",
     "evalue": "",
     "output_type": "error",
     "traceback": [
      "\u001b[0;31m---------------------------------------------------------------------------\u001b[0m",
      "\u001b[0;31mKeyboardInterrupt\u001b[0m                         Traceback (most recent call last)",
      "\u001b[0;32m<ipython-input-222-6de50b2acfb1>\u001b[0m in \u001b[0;36m<module>\u001b[0;34m\u001b[0m\n\u001b[1;32m      5\u001b[0m \u001b[0my_train\u001b[0m \u001b[0;34m=\u001b[0m \u001b[0mpd\u001b[0m\u001b[0;34m.\u001b[0m\u001b[0mDataFrame\u001b[0m\u001b[0;34m(\u001b[0m\u001b[0mtrain\u001b[0m\u001b[0;34m[\u001b[0m\u001b[0;34m\"y\"\u001b[0m\u001b[0;34m]\u001b[0m\u001b[0;34m)\u001b[0m\u001b[0;34m\u001b[0m\u001b[0;34m\u001b[0m\u001b[0m\n\u001b[1;32m      6\u001b[0m \u001b[0mX_train\u001b[0m \u001b[0;34m=\u001b[0m \u001b[0mtrain\u001b[0m\u001b[0;34m.\u001b[0m\u001b[0mdrop\u001b[0m\u001b[0;34m(\u001b[0m\u001b[0mcolumns\u001b[0m\u001b[0;34m=\u001b[0m\u001b[0;34m\"y\"\u001b[0m\u001b[0;34m)\u001b[0m\u001b[0;34m\u001b[0m\u001b[0;34m\u001b[0m\u001b[0m\n\u001b[0;32m----> 7\u001b[0;31m \u001b[0mw_1\u001b[0m\u001b[0;34m,\u001b[0m \u001b[0ml_funcs_1\u001b[0m \u001b[0;34m=\u001b[0m \u001b[0mlogistic_regression\u001b[0m\u001b[0;34m(\u001b[0m\u001b[0mX_train\u001b[0m\u001b[0;34m,\u001b[0m \u001b[0my_train\u001b[0m\u001b[0;34m,\u001b[0m \u001b[0;36m600\u001b[0m\u001b[0;34m)\u001b[0m\u001b[0;34m\u001b[0m\u001b[0;34m\u001b[0m\u001b[0m\n\u001b[0m",
      "\u001b[0;32m<ipython-input-212-d3cceaa35e06>\u001b[0m in \u001b[0;36mlogistic_regression\u001b[0;34m(X, y, iterations, step_size)\u001b[0m\n\u001b[1;32m     10\u001b[0m         \u001b[0;32mfor\u001b[0m \u001b[0mi\u001b[0m \u001b[0;32min\u001b[0m \u001b[0mrange\u001b[0m\u001b[0;34m(\u001b[0m\u001b[0mlen\u001b[0m\u001b[0;34m(\u001b[0m\u001b[0my\u001b[0m\u001b[0;34m[\u001b[0m\u001b[0;34m\"y\"\u001b[0m\u001b[0;34m]\u001b[0m\u001b[0;34m)\u001b[0m\u001b[0;34m)\u001b[0m\u001b[0;34m:\u001b[0m\u001b[0;34m\u001b[0m\u001b[0;34m\u001b[0m\u001b[0m\n\u001b[1;32m     11\u001b[0m             \u001b[0my_i\u001b[0m \u001b[0;34m=\u001b[0m \u001b[0my\u001b[0m\u001b[0;34m[\u001b[0m\u001b[0;34m\"y\"\u001b[0m\u001b[0;34m]\u001b[0m\u001b[0;34m.\u001b[0m\u001b[0miloc\u001b[0m\u001b[0;34m[\u001b[0m\u001b[0mi\u001b[0m\u001b[0;34m]\u001b[0m\u001b[0;34m\u001b[0m\u001b[0;34m\u001b[0m\u001b[0m\n\u001b[0;32m---> 12\u001b[0;31m             \u001b[0mx_i\u001b[0m \u001b[0;34m=\u001b[0m \u001b[0mX\u001b[0m\u001b[0;34m.\u001b[0m\u001b[0miloc\u001b[0m\u001b[0;34m[\u001b[0m\u001b[0mi\u001b[0m\u001b[0;34m]\u001b[0m\u001b[0;34m\u001b[0m\u001b[0;34m\u001b[0m\u001b[0m\n\u001b[0m\u001b[1;32m     13\u001b[0m             \u001b[0msum_temp\u001b[0m \u001b[0;34m=\u001b[0m \u001b[0;34m(\u001b[0m\u001b[0;36m1\u001b[0m\u001b[0;34m-\u001b[0m\u001b[0msigmoid_helper\u001b[0m\u001b[0;34m(\u001b[0m\u001b[0mx_i\u001b[0m\u001b[0;34m,\u001b[0m \u001b[0my_i\u001b[0m\u001b[0;34m,\u001b[0m \u001b[0mw\u001b[0m\u001b[0;34m)\u001b[0m\u001b[0;34m)\u001b[0m \u001b[0;34m*\u001b[0m \u001b[0my_i\u001b[0m \u001b[0;34m*\u001b[0m \u001b[0mx_i\u001b[0m\u001b[0;34m\u001b[0m\u001b[0;34m\u001b[0m\u001b[0m\n\u001b[1;32m     14\u001b[0m             \u001b[0mgradient\u001b[0m \u001b[0;34m=\u001b[0m \u001b[0mgradient\u001b[0m \u001b[0;34m+\u001b[0m \u001b[0msum_temp\u001b[0m\u001b[0;34m\u001b[0m\u001b[0;34m\u001b[0m\u001b[0m\n",
      "\u001b[0;32m~/opt/anaconda3/lib/python3.8/site-packages/pandas/core/indexing.py\u001b[0m in \u001b[0;36m__getitem__\u001b[0;34m(self, key)\u001b[0m\n\u001b[1;32m    877\u001b[0m \u001b[0;34m\u001b[0m\u001b[0m\n\u001b[1;32m    878\u001b[0m             \u001b[0mmaybe_callable\u001b[0m \u001b[0;34m=\u001b[0m \u001b[0mcom\u001b[0m\u001b[0;34m.\u001b[0m\u001b[0mapply_if_callable\u001b[0m\u001b[0;34m(\u001b[0m\u001b[0mkey\u001b[0m\u001b[0;34m,\u001b[0m \u001b[0mself\u001b[0m\u001b[0;34m.\u001b[0m\u001b[0mobj\u001b[0m\u001b[0;34m)\u001b[0m\u001b[0;34m\u001b[0m\u001b[0;34m\u001b[0m\u001b[0m\n\u001b[0;32m--> 879\u001b[0;31m             \u001b[0;32mreturn\u001b[0m \u001b[0mself\u001b[0m\u001b[0;34m.\u001b[0m\u001b[0m_getitem_axis\u001b[0m\u001b[0;34m(\u001b[0m\u001b[0mmaybe_callable\u001b[0m\u001b[0;34m,\u001b[0m \u001b[0maxis\u001b[0m\u001b[0;34m=\u001b[0m\u001b[0maxis\u001b[0m\u001b[0;34m)\u001b[0m\u001b[0;34m\u001b[0m\u001b[0;34m\u001b[0m\u001b[0m\n\u001b[0m\u001b[1;32m    880\u001b[0m \u001b[0;34m\u001b[0m\u001b[0m\n\u001b[1;32m    881\u001b[0m     \u001b[0;32mdef\u001b[0m \u001b[0m_is_scalar_access\u001b[0m\u001b[0;34m(\u001b[0m\u001b[0mself\u001b[0m\u001b[0;34m,\u001b[0m \u001b[0mkey\u001b[0m\u001b[0;34m:\u001b[0m \u001b[0mTuple\u001b[0m\u001b[0;34m)\u001b[0m\u001b[0;34m:\u001b[0m\u001b[0;34m\u001b[0m\u001b[0;34m\u001b[0m\u001b[0m\n",
      "\u001b[0;32m~/opt/anaconda3/lib/python3.8/site-packages/pandas/core/indexing.py\u001b[0m in \u001b[0;36m_getitem_axis\u001b[0;34m(self, key, axis)\u001b[0m\n\u001b[1;32m   1496\u001b[0m             \u001b[0mself\u001b[0m\u001b[0;34m.\u001b[0m\u001b[0m_validate_integer\u001b[0m\u001b[0;34m(\u001b[0m\u001b[0mkey\u001b[0m\u001b[0;34m,\u001b[0m \u001b[0maxis\u001b[0m\u001b[0;34m)\u001b[0m\u001b[0;34m\u001b[0m\u001b[0;34m\u001b[0m\u001b[0m\n\u001b[1;32m   1497\u001b[0m \u001b[0;34m\u001b[0m\u001b[0m\n\u001b[0;32m-> 1498\u001b[0;31m             \u001b[0;32mreturn\u001b[0m \u001b[0mself\u001b[0m\u001b[0;34m.\u001b[0m\u001b[0mobj\u001b[0m\u001b[0;34m.\u001b[0m\u001b[0m_ixs\u001b[0m\u001b[0;34m(\u001b[0m\u001b[0mkey\u001b[0m\u001b[0;34m,\u001b[0m \u001b[0maxis\u001b[0m\u001b[0;34m=\u001b[0m\u001b[0maxis\u001b[0m\u001b[0;34m)\u001b[0m\u001b[0;34m\u001b[0m\u001b[0;34m\u001b[0m\u001b[0m\n\u001b[0m\u001b[1;32m   1499\u001b[0m \u001b[0;34m\u001b[0m\u001b[0m\n\u001b[1;32m   1500\u001b[0m     \u001b[0;32mdef\u001b[0m \u001b[0m_get_slice_axis\u001b[0m\u001b[0;34m(\u001b[0m\u001b[0mself\u001b[0m\u001b[0;34m,\u001b[0m \u001b[0mslice_obj\u001b[0m\u001b[0;34m:\u001b[0m \u001b[0mslice\u001b[0m\u001b[0;34m,\u001b[0m \u001b[0maxis\u001b[0m\u001b[0;34m:\u001b[0m \u001b[0mint\u001b[0m\u001b[0;34m)\u001b[0m\u001b[0;34m:\u001b[0m\u001b[0;34m\u001b[0m\u001b[0;34m\u001b[0m\u001b[0m\n",
      "\u001b[0;32m~/opt/anaconda3/lib/python3.8/site-packages/pandas/core/frame.py\u001b[0m in \u001b[0;36m_ixs\u001b[0;34m(self, i, axis)\u001b[0m\n\u001b[1;32m   2831\u001b[0m             \u001b[0;31m# if we are a copy, mark as such\u001b[0m\u001b[0;34m\u001b[0m\u001b[0;34m\u001b[0m\u001b[0;34m\u001b[0m\u001b[0m\n\u001b[1;32m   2832\u001b[0m             \u001b[0mcopy\u001b[0m \u001b[0;34m=\u001b[0m \u001b[0misinstance\u001b[0m\u001b[0;34m(\u001b[0m\u001b[0mnew_values\u001b[0m\u001b[0;34m,\u001b[0m \u001b[0mnp\u001b[0m\u001b[0;34m.\u001b[0m\u001b[0mndarray\u001b[0m\u001b[0;34m)\u001b[0m \u001b[0;32mand\u001b[0m \u001b[0mnew_values\u001b[0m\u001b[0;34m.\u001b[0m\u001b[0mbase\u001b[0m \u001b[0;32mis\u001b[0m \u001b[0;32mNone\u001b[0m\u001b[0;34m\u001b[0m\u001b[0;34m\u001b[0m\u001b[0m\n\u001b[0;32m-> 2833\u001b[0;31m             result = self._constructor_sliced(\n\u001b[0m\u001b[1;32m   2834\u001b[0m                 \u001b[0mnew_values\u001b[0m\u001b[0;34m,\u001b[0m\u001b[0;34m\u001b[0m\u001b[0;34m\u001b[0m\u001b[0m\n\u001b[1;32m   2835\u001b[0m                 \u001b[0mindex\u001b[0m\u001b[0;34m=\u001b[0m\u001b[0mself\u001b[0m\u001b[0;34m.\u001b[0m\u001b[0mcolumns\u001b[0m\u001b[0;34m,\u001b[0m\u001b[0;34m\u001b[0m\u001b[0;34m\u001b[0m\u001b[0m\n",
      "\u001b[0;32m~/opt/anaconda3/lib/python3.8/site-packages/pandas/core/series.py\u001b[0m in \u001b[0;36m__init__\u001b[0;34m(self, data, index, dtype, name, copy, fastpath)\u001b[0m\n\u001b[1;32m    325\u001b[0m                     \u001b[0mdata\u001b[0m \u001b[0;34m=\u001b[0m \u001b[0mdata\u001b[0m\u001b[0;34m.\u001b[0m\u001b[0mcopy\u001b[0m\u001b[0;34m(\u001b[0m\u001b[0;34m)\u001b[0m\u001b[0;34m\u001b[0m\u001b[0;34m\u001b[0m\u001b[0m\n\u001b[1;32m    326\u001b[0m             \u001b[0;32melse\u001b[0m\u001b[0;34m:\u001b[0m\u001b[0;34m\u001b[0m\u001b[0;34m\u001b[0m\u001b[0m\n\u001b[0;32m--> 327\u001b[0;31m                 \u001b[0mdata\u001b[0m \u001b[0;34m=\u001b[0m \u001b[0msanitize_array\u001b[0m\u001b[0;34m(\u001b[0m\u001b[0mdata\u001b[0m\u001b[0;34m,\u001b[0m \u001b[0mindex\u001b[0m\u001b[0;34m,\u001b[0m \u001b[0mdtype\u001b[0m\u001b[0;34m,\u001b[0m \u001b[0mcopy\u001b[0m\u001b[0;34m,\u001b[0m \u001b[0mraise_cast_failure\u001b[0m\u001b[0;34m=\u001b[0m\u001b[0;32mTrue\u001b[0m\u001b[0;34m)\u001b[0m\u001b[0;34m\u001b[0m\u001b[0;34m\u001b[0m\u001b[0m\n\u001b[0m\u001b[1;32m    328\u001b[0m \u001b[0;34m\u001b[0m\u001b[0m\n\u001b[1;32m    329\u001b[0m                 \u001b[0mdata\u001b[0m \u001b[0;34m=\u001b[0m \u001b[0mSingleBlockManager\u001b[0m\u001b[0;34m.\u001b[0m\u001b[0mfrom_array\u001b[0m\u001b[0;34m(\u001b[0m\u001b[0mdata\u001b[0m\u001b[0;34m,\u001b[0m \u001b[0mindex\u001b[0m\u001b[0;34m)\u001b[0m\u001b[0;34m\u001b[0m\u001b[0;34m\u001b[0m\u001b[0m\n",
      "\u001b[0;32m~/opt/anaconda3/lib/python3.8/site-packages/pandas/core/construction.py\u001b[0m in \u001b[0;36msanitize_array\u001b[0;34m(data, index, dtype, copy, raise_cast_failure)\u001b[0m\n\u001b[1;32m    426\u001b[0m         \u001b[0;32melse\u001b[0m\u001b[0;34m:\u001b[0m\u001b[0;34m\u001b[0m\u001b[0;34m\u001b[0m\u001b[0m\n\u001b[1;32m    427\u001b[0m             \u001b[0;31m# we will try to copy be-definition here\u001b[0m\u001b[0;34m\u001b[0m\u001b[0;34m\u001b[0m\u001b[0;34m\u001b[0m\u001b[0m\n\u001b[0;32m--> 428\u001b[0;31m             \u001b[0msubarr\u001b[0m \u001b[0;34m=\u001b[0m \u001b[0m_try_cast\u001b[0m\u001b[0;34m(\u001b[0m\u001b[0mdata\u001b[0m\u001b[0;34m,\u001b[0m \u001b[0mdtype\u001b[0m\u001b[0;34m,\u001b[0m \u001b[0mcopy\u001b[0m\u001b[0;34m,\u001b[0m \u001b[0mraise_cast_failure\u001b[0m\u001b[0;34m)\u001b[0m\u001b[0;34m\u001b[0m\u001b[0;34m\u001b[0m\u001b[0m\n\u001b[0m\u001b[1;32m    429\u001b[0m \u001b[0;34m\u001b[0m\u001b[0m\n\u001b[1;32m    430\u001b[0m     \u001b[0;32melif\u001b[0m \u001b[0misinstance\u001b[0m\u001b[0;34m(\u001b[0m\u001b[0mdata\u001b[0m\u001b[0;34m,\u001b[0m \u001b[0mABCExtensionArray\u001b[0m\u001b[0;34m)\u001b[0m\u001b[0;34m:\u001b[0m\u001b[0;34m\u001b[0m\u001b[0;34m\u001b[0m\u001b[0m\n",
      "\u001b[0;32m~/opt/anaconda3/lib/python3.8/site-packages/pandas/core/construction.py\u001b[0m in \u001b[0;36m_try_cast\u001b[0;34m(arr, dtype, copy, raise_cast_failure)\u001b[0m\n\u001b[1;32m    553\u001b[0m         \u001b[0;32mif\u001b[0m \u001b[0mis_integer_dtype\u001b[0m\u001b[0;34m(\u001b[0m\u001b[0mdtype\u001b[0m\u001b[0;34m)\u001b[0m\u001b[0;34m:\u001b[0m\u001b[0;34m\u001b[0m\u001b[0;34m\u001b[0m\u001b[0m\n\u001b[1;32m    554\u001b[0m             \u001b[0;31m# this will raise if we have e.g. floats\u001b[0m\u001b[0;34m\u001b[0m\u001b[0;34m\u001b[0m\u001b[0;34m\u001b[0m\u001b[0m\n\u001b[0;32m--> 555\u001b[0;31m             \u001b[0mmaybe_cast_to_integer_array\u001b[0m\u001b[0;34m(\u001b[0m\u001b[0marr\u001b[0m\u001b[0;34m,\u001b[0m \u001b[0mdtype\u001b[0m\u001b[0;34m)\u001b[0m\u001b[0;34m\u001b[0m\u001b[0;34m\u001b[0m\u001b[0m\n\u001b[0m\u001b[1;32m    556\u001b[0m             \u001b[0msubarr\u001b[0m \u001b[0;34m=\u001b[0m \u001b[0marr\u001b[0m\u001b[0;34m\u001b[0m\u001b[0;34m\u001b[0m\u001b[0m\n\u001b[1;32m    557\u001b[0m         \u001b[0;32melse\u001b[0m\u001b[0;34m:\u001b[0m\u001b[0;34m\u001b[0m\u001b[0;34m\u001b[0m\u001b[0m\n",
      "\u001b[0;32m~/opt/anaconda3/lib/python3.8/site-packages/pandas/core/dtypes/cast.py\u001b[0m in \u001b[0;36mmaybe_cast_to_integer_array\u001b[0;34m(arr, dtype, copy)\u001b[0m\n\u001b[1;32m   1679\u001b[0m         ) from err\n\u001b[1;32m   1680\u001b[0m \u001b[0;34m\u001b[0m\u001b[0m\n\u001b[0;32m-> 1681\u001b[0;31m     \u001b[0;32mif\u001b[0m \u001b[0mnp\u001b[0m\u001b[0;34m.\u001b[0m\u001b[0marray_equal\u001b[0m\u001b[0;34m(\u001b[0m\u001b[0marr\u001b[0m\u001b[0;34m,\u001b[0m \u001b[0mcasted\u001b[0m\u001b[0;34m)\u001b[0m\u001b[0;34m:\u001b[0m\u001b[0;34m\u001b[0m\u001b[0;34m\u001b[0m\u001b[0m\n\u001b[0m\u001b[1;32m   1682\u001b[0m         \u001b[0;32mreturn\u001b[0m \u001b[0mcasted\u001b[0m\u001b[0;34m\u001b[0m\u001b[0;34m\u001b[0m\u001b[0m\n\u001b[1;32m   1683\u001b[0m \u001b[0;34m\u001b[0m\u001b[0m\n",
      "\u001b[0;32m<__array_function__ internals>\u001b[0m in \u001b[0;36marray_equal\u001b[0;34m(*args, **kwargs)\u001b[0m\n",
      "\u001b[0;32m~/opt/anaconda3/lib/python3.8/site-packages/numpy/core/numeric.py\u001b[0m in \u001b[0;36marray_equal\u001b[0;34m(a1, a2, equal_nan)\u001b[0m\n\u001b[1;32m   2376\u001b[0m         \u001b[0;32mreturn\u001b[0m \u001b[0;32mFalse\u001b[0m\u001b[0;34m\u001b[0m\u001b[0;34m\u001b[0m\u001b[0m\n\u001b[1;32m   2377\u001b[0m     \u001b[0;32mif\u001b[0m \u001b[0;32mnot\u001b[0m \u001b[0mequal_nan\u001b[0m\u001b[0;34m:\u001b[0m\u001b[0;34m\u001b[0m\u001b[0;34m\u001b[0m\u001b[0m\n\u001b[0;32m-> 2378\u001b[0;31m         \u001b[0;32mreturn\u001b[0m \u001b[0mbool\u001b[0m\u001b[0;34m(\u001b[0m\u001b[0masarray\u001b[0m\u001b[0;34m(\u001b[0m\u001b[0ma1\u001b[0m \u001b[0;34m==\u001b[0m \u001b[0ma2\u001b[0m\u001b[0;34m)\u001b[0m\u001b[0;34m.\u001b[0m\u001b[0mall\u001b[0m\u001b[0;34m(\u001b[0m\u001b[0;34m)\u001b[0m\u001b[0;34m)\u001b[0m\u001b[0;34m\u001b[0m\u001b[0;34m\u001b[0m\u001b[0m\n\u001b[0m\u001b[1;32m   2379\u001b[0m     \u001b[0;31m# Handling NaN values if equal_nan is True\u001b[0m\u001b[0;34m\u001b[0m\u001b[0;34m\u001b[0m\u001b[0;34m\u001b[0m\u001b[0m\n\u001b[1;32m   2380\u001b[0m     \u001b[0ma1nan\u001b[0m\u001b[0;34m,\u001b[0m \u001b[0ma2nan\u001b[0m \u001b[0;34m=\u001b[0m \u001b[0misnan\u001b[0m\u001b[0;34m(\u001b[0m\u001b[0ma1\u001b[0m\u001b[0;34m)\u001b[0m\u001b[0;34m,\u001b[0m \u001b[0misnan\u001b[0m\u001b[0;34m(\u001b[0m\u001b[0ma2\u001b[0m\u001b[0;34m)\u001b[0m\u001b[0;34m\u001b[0m\u001b[0;34m\u001b[0m\u001b[0m\n",
      "\u001b[0;31mKeyboardInterrupt\u001b[0m: "
     ]
    }
   ],
   "source": [
    "train = result[0].append(result[2]).append(result[3]).append(result[4]).append(result[5]).append(result[6]).append(result[7]).append(result[8]).append(result[9])\n",
    "train.loc[(train.y == 0),'y']=-1\n",
    "test = result[1]\n",
    "\n",
    "y_train = pd.DataFrame(train[\"y\"])\n",
    "X_train = train.drop(columns=\"y\")\n",
    "w_1, l_funcs_1 = logistic_regression(X_train, y_train, 600)"
   ]
  },
  {
   "cell_type": "code",
   "execution_count": 220,
   "metadata": {},
   "outputs": [
    {
     "name": "stdout",
     "output_type": "stream",
     "text": [
      "finished iteration: 0\n",
      "finished iteration: 25\n",
      "finished iteration: 50\n",
      "finished iteration: 75\n",
      "finished iteration: 100\n",
      "finished iteration: 125\n",
      "finished iteration: 150\n",
      "finished iteration: 175\n",
      "finished iteration: 200\n",
      "finished iteration: 225\n",
      "finished iteration: 250\n",
      "finished iteration: 275\n",
      "finished iteration: 300\n",
      "finished iteration: 325\n",
      "finished iteration: 350\n",
      "finished iteration: 375\n",
      "finished iteration: 400\n",
      "finished iteration: 425\n",
      "finished iteration: 450\n",
      "finished iteration: 475\n",
      "finished iteration: 500\n",
      "finished iteration: 525\n",
      "finished iteration: 550\n",
      "finished iteration: 575\n"
     ]
    }
   ],
   "source": [
    "train = result[1].append(result[2]).append(result[3]).append(result[4]).append(result[5]).append(result[6]).append(result[7]).append(result[8]).append(result[9])\n",
    "train.loc[(train.y == 0),'y']=-1\n",
    "test = result[0]\n",
    "\n",
    "y_train = pd.DataFrame(train[\"y\"])\n",
    "X_train = train.drop(columns=\"y\")\n",
    "w_0, l_funcs_0 = logistic_regression(X_train, y_train, 600)"
   ]
  },
  {
   "cell_type": "code",
   "execution_count": 229,
   "metadata": {},
   "outputs": [
    {
     "ename": "NameError",
     "evalue": "name 'ax' is not defined",
     "output_type": "error",
     "traceback": [
      "\u001b[0;31m---------------------------------------------------------------------------\u001b[0m",
      "\u001b[0;31mNameError\u001b[0m                                 Traceback (most recent call last)",
      "\u001b[0;32m<ipython-input-229-82d824897ce6>\u001b[0m in \u001b[0;36m<module>\u001b[0;34m\u001b[0m\n\u001b[1;32m     12\u001b[0m                    Line2D([0], [0], color='b', lw=4, label='test0')]\n\u001b[1;32m     13\u001b[0m \u001b[0;34m\u001b[0m\u001b[0m\n\u001b[0;32m---> 14\u001b[0;31m \u001b[0max\u001b[0m\u001b[0;34m.\u001b[0m\u001b[0mlegend\u001b[0m\u001b[0;34m(\u001b[0m\u001b[0mhandles\u001b[0m\u001b[0;34m=\u001b[0m\u001b[0mlegend_elements\u001b[0m\u001b[0;34m)\u001b[0m\u001b[0;34m\u001b[0m\u001b[0;34m\u001b[0m\u001b[0m\n\u001b[0m",
      "\u001b[0;31mNameError\u001b[0m: name 'ax' is not defined"
     ]
    },
    {
     "data": {
      "image/png": "[encoded data removed]",
      "text/plain": [
       "<Figure size 432x288 with 1 Axes>"
      ]
     },
     "metadata": {
      "needs_background": "light"
     },
     "output_type": "display_data"
    }
   ],
   "source": [
    "x_iter = np.linspace(0, 600, 600)\n",
    "plt.plot(x_iter, l_funcs_9)\n",
    "plt.plot(x_iter, l_funcs_8)\n",
    "plt.plot(x_iter, l_funcs_7)\n",
    "plt.plot(x_iter, l_funcs_6)\n",
    "plt.plot(x_iter, l_funcs_5)\n",
    "plt.plot(x_iter, l_funcs_4)\n",
    "plt.plot(x_iter, l_funcs_3)\n",
    "plt.plot(x_iter, l_funcs_2)\n",
    "plt.plot(x_iter, l_funcs_1)\n",
    "plt.plot(x_iter, l_funcs_0)"
   ]
  },
  {
   "cell_type": "markdown",
   "metadata": {},
   "source": [
    "faster method"
   ]
  },
  {
   "cell_type": "code",
   "execution_count": 259,
   "metadata": {},
   "outputs": [
    {
     "data": {
      "text/html": [
       "<div>\n",
       "<style scoped>\n",
       "    .dataframe tbody tr th:only-of-type {\n",
       "        vertical-align: middle;\n",
       "    }\n",
       "\n",
       "    .dataframe tbody tr th {\n",
       "        vertical-align: top;\n",
       "    }\n",
       "\n",
       "    .dataframe thead th {\n",
       "        text-align: right;\n",
       "    }\n",
       "</style>\n",
       "<table border=\"1\" class=\"dataframe\">\n",
       "  <thead>\n",
       "    <tr style=\"text-align: right;\">\n",
       "      <th></th>\n",
       "      <th>0</th>\n",
       "    </tr>\n",
       "  </thead>\n",
       "  <tbody>\n",
       "    <tr>\n",
       "      <th>0</th>\n",
       "      <td>1</td>\n",
       "    </tr>\n",
       "    <tr>\n",
       "      <th>1</th>\n",
       "      <td>1</td>\n",
       "    </tr>\n",
       "    <tr>\n",
       "      <th>2</th>\n",
       "      <td>1</td>\n",
       "    </tr>\n",
       "    <tr>\n",
       "      <th>3</th>\n",
       "      <td>1</td>\n",
       "    </tr>\n",
       "    <tr>\n",
       "      <th>4</th>\n",
       "      <td>1</td>\n",
       "    </tr>\n",
       "    <tr>\n",
       "      <th>...</th>\n",
       "      <td>...</td>\n",
       "    </tr>\n",
       "    <tr>\n",
       "      <th>4595</th>\n",
       "      <td>-1</td>\n",
       "    </tr>\n",
       "    <tr>\n",
       "      <th>4596</th>\n",
       "      <td>-1</td>\n",
       "    </tr>\n",
       "    <tr>\n",
       "      <th>4597</th>\n",
       "      <td>-1</td>\n",
       "    </tr>\n",
       "    <tr>\n",
       "      <th>4598</th>\n",
       "      <td>-1</td>\n",
       "    </tr>\n",
       "    <tr>\n",
       "      <th>4599</th>\n",
       "      <td>-1</td>\n",
       "    </tr>\n",
       "  </tbody>\n",
       "</table>\n",
       "<p>4600 rows × 1 columns</p>\n",
       "</div>"
      ],
      "text/plain": [
       "      0\n",
       "0     1\n",
       "1     1\n",
       "2     1\n",
       "3     1\n",
       "4     1\n",
       "...  ..\n",
       "4595 -1\n",
       "4596 -1\n",
       "4597 -1\n",
       "4598 -1\n",
       "4599 -1\n",
       "\n",
       "[4600 rows x 1 columns]"
      ]
     },
     "execution_count": 259,
     "metadata": {},
     "output_type": "execute_result"
    }
   ],
   "source": [
    "X[\"y\"] = y\n",
    "X.loc[(X.y == 0),'y']=-1\n",
    "\n",
    "y = X[\"y\"]\n",
    "X = X.drop(columns=\"y\")"
   ]
  },
  {
   "cell_type": "code",
   "execution_count": 350,
   "metadata": {},
   "outputs": [
    {
     "ename": "KeyboardInterrupt",
     "evalue": "",
     "output_type": "error",
     "traceback": [
      "\u001b[0;31m---------------------------------------------------------------------------\u001b[0m",
      "\u001b[0;31mKeyboardInterrupt\u001b[0m                         Traceback (most recent call last)",
      "\u001b[0;32m<ipython-input-350-120b5d33f971>\u001b[0m in \u001b[0;36m<module>\u001b[0;34m\u001b[0m\n\u001b[1;32m     26\u001b[0m             \u001b[0mdelta_L\u001b[0m \u001b[0;34m=\u001b[0m \u001b[0;34m(\u001b[0m\u001b[0;36m1\u001b[0m\u001b[0;34m-\u001b[0m\u001b[0msigm\u001b[0m\u001b[0;34m)\u001b[0m\u001b[0;34m*\u001b[0m\u001b[0mlr_y_train\u001b[0m\u001b[0;34m[\u001b[0m\u001b[0mi\u001b[0m\u001b[0;34m]\u001b[0m\u001b[0;34m[\u001b[0m\u001b[0;36m0\u001b[0m\u001b[0;34m]\u001b[0m \u001b[0;34m*\u001b[0m \u001b[0mlr_x_train\u001b[0m\u001b[0;34m[\u001b[0m\u001b[0mi\u001b[0m\u001b[0;34m]\u001b[0m\u001b[0;34m\u001b[0m\u001b[0;34m\u001b[0m\u001b[0m\n\u001b[1;32m     27\u001b[0m \u001b[0;34m\u001b[0m\u001b[0m\n\u001b[0;32m---> 28\u001b[0;31m             \u001b[0mtotal_delta\u001b[0m \u001b[0;34m+=\u001b[0m \u001b[0mdelta_L\u001b[0m\u001b[0;34m\u001b[0m\u001b[0;34m\u001b[0m\u001b[0m\n\u001b[0m\u001b[1;32m     29\u001b[0m         \u001b[0mnew_Ls\u001b[0m\u001b[0;34m.\u001b[0m\u001b[0mappend\u001b[0m\u001b[0;34m(\u001b[0m\u001b[0msum_l\u001b[0m\u001b[0;34m)\u001b[0m\u001b[0;34m\u001b[0m\u001b[0;34m\u001b[0m\u001b[0m\n\u001b[1;32m     30\u001b[0m \u001b[0;34m\u001b[0m\u001b[0m\n",
      "\u001b[0;31mKeyboardInterrupt\u001b[0m: "
     ]
    }
   ],
   "source": [
    "def sigmoid(x, y, w):\n",
    "    sigma = math.exp(np.dot(x.T, w)) / (1 + math.exp(np.dot(x.T, w)))\n",
    "    if y == 1:\n",
    "        return sigm\n",
    "    else:\n",
    "        return 1 - sigm\n",
    "    \n",
    "obj_funcs = []\n",
    "for i in range(10):\n",
    "    x_test = X[(460*i):(460*(i+1))]\n",
    "    x_train = np.concatenate((X[0:(460*i)], X[(460*(i+1)):]), axis=0)\n",
    "    y_test = y[(460*i):(460*(i+1))]\n",
    "    y_train = np.concatenate((y[0:(460*i)], y[(460*(i+1)):]), axis=0)\n",
    "    \n",
    "    L = []\n",
    "    w = np.zeros(x_train.shape[1])\n",
    "    for i in range(1000):\n",
    "        sum_l = 0\n",
    "        sum_delta = 0\n",
    "        for i in range(len(x_train)):\n",
    "            sigma = sigmoid(x_train[i], y_train[i],w)\n",
    "            sum_l += math.log(sigma)\n",
    "            gradient = (1 - sigma) * y_train[i][0] * x_train[i]\n",
    "        \n",
    "            sum_delta += gradient\n",
    "        L.append(sum_l)\n",
    "        \n",
    "        w_t1 = w + 0.01/4600 * sum_delta\n",
    "        w=w_t1\n",
    "    print(\"did one test:\", i)\n",
    "    obj_funcs.append(L)"
   ]
  },
  {
   "cell_type": "code",
   "execution_count": 292,
   "metadata": {},
   "outputs": [
    {
     "data": {
      "text/plain": [
       "<matplotlib.legend.Legend at 0x7fd15807c940>"
      ]
     },
     "execution_count": 292,
     "metadata": {},
     "output_type": "execute_result"
    },
    {
     "data": {
      "image/png": "[encoded data removed]",
      "text/plain": [
       "<Figure size 432x288 with 1 Axes>"
      ]
     },
     "metadata": {
      "needs_background": "light"
     },
     "output_type": "display_data"
    }
   ],
   "source": [
    "x = np.arange(1000)\n",
    "plt.plot(x_iter, obj_funcs[0],label=\"test0\")\n",
    "plt.plot(x_iter, obj_funcs[1],label=\"test1\")\n",
    "plt.plot(x_iter, obj_funcs[2],label=\"test2\")\n",
    "plt.plot(x_iter, obj_funcs[3],label=\"test3\")\n",
    "plt.plot(x_iter, obj_funcs[4],label=\"test4\")\n",
    "plt.plot(x_iter, obj_funcs[5],label=\"test5\")\n",
    "plt.plot(x_iter, obj_funcs[6],label=\"test6\")\n",
    "plt.plot(x_iter, obj_funcs[7],label=\"test7\")\n",
    "plt.plot(x_iter, obj_funcs[8],label=\"test8\")\n",
    "plt.plot(x_iter, obj_funcs[9],label=\"test8\")\n",
    "plt.legend()"
   ]
  },
  {
   "cell_type": "markdown",
   "metadata": {},
   "source": [
    "## d. newton"
   ]
  },
  {
   "cell_type": "code",
   "execution_count": 438,
   "metadata": {},
   "outputs": [
    {
     "name": "stdout",
     "output_type": "stream",
     "text": [
      "did one test: 0\n",
      "did one test: 1\n",
      "did one test: 2\n",
      "did one test: 3\n",
      "did one test: 4\n",
      "did one test: 5\n",
      "did one test: 6\n",
      "did one test: 7\n",
      "did one test: 8\n",
      "did one test: 9\n"
     ]
    }
   ],
   "source": [
    "TP = 0\n",
    "FP = 0\n",
    "TN = 0\n",
    "FN = 0\n",
    "\n",
    "obj_funcs = []\n",
    "for i in range(10):\n",
    "    x_test = X[(460*i):(460*(i+1))]\n",
    "    x_train = np.concatenate((X[0:(460*i)], X[(460*(i+1)):]), axis=0)\n",
    "    y_test = y[(460*i):(460*(i+1))]\n",
    "    y_train = np.concatenate((y[0:(460*i)], y[(460*(i+1)):]), axis=0)\n",
    "    \n",
    "    L = []\n",
    "    w = np.zeros(x_train.shape[1])\n",
    "    for k in range(100):\n",
    "        \n",
    "        sum_l = 0\n",
    "        delta_sum = 0\n",
    "        num_total = 0\n",
    "        dem_total = 0\n",
    "        \n",
    "        for j in range(len(x_train)):  \n",
    "            sigma = sigmoid(x_train[j], y_train[j],w)\n",
    "            L= math.log(sigma)\n",
    "            sum_l += L\n",
    "\n",
    "            #new\n",
    "            num = (1-sigma)*y_train[j][0] * x_train[j]\n",
    "            num_total += num\n",
    "\n",
    "            dem = (sigma**2-sigma)* y_train[j][0]**2 * np.dot(x_train[j], x_train[j].T)\n",
    "            dem_total += dem\n",
    "\n",
    "        delta_sum = -1 * num_total / dem_total\n",
    "        L.append(sum_l)\n",
    "        w += delta_sum \n",
    "         \n",
    "    #test accuracy\n",
    "    pred = []\n",
    "    for r in range(len(x_test)):\n",
    "        row = x_test.iloc[r]\n",
    "        prediction = math.exp(np.dot(row, w)) / (1+math.exp(np.dot(row, w)))\n",
    "        pred.append(prediction)\n",
    "             \n",
    "    actual = y_test.iloc[:,0]   \n",
    "    for v in range(len(pred)):\n",
    "        if pred[v] > 0.5: #predicted true\n",
    "            if actual.iloc[v] == 1:\n",
    "                TP += 1\n",
    "            else:\n",
    "                FP += 1\n",
    "        else: #predicted fasle\n",
    "            if actual.iloc[v] == -1: \n",
    "                TN += 1\n",
    "            else:\n",
    "                FN += 1\n",
    "    print(\"did one test:\", i)\n",
    "    obj_funcs.append(L)"
   ]
  },
  {
   "cell_type": "code",
   "execution_count": 439,
   "metadata": {},
   "outputs": [
    {
     "data": {
      "text/plain": [
       "(1639, 2393, 394, 174)"
      ]
     },
     "execution_count": 439,
     "metadata": {},
     "output_type": "execute_result"
    }
   ],
   "source": [
    "TP, TN, FP, FN"
   ]
  },
  {
   "cell_type": "code",
   "execution_count": 401,
   "metadata": {},
   "outputs": [
    {
     "data": {
      "image/png": "[encoded data removed]",
      "text/plain": [
       "<Figure size 432x288 with 1 Axes>"
      ]
     },
     "metadata": {
      "needs_background": "light"
     },
     "output_type": "display_data"
    }
   ],
   "source": [
    "x = np.arange(100)\n",
    "\n",
    "for i in range(10):\n",
    "    plt.plot(x, obj_funcs[i], label = f'line {i}')\n",
    "plt.legend()\n",
    "plt.show()"
   ]
  },
  {
   "cell_type": "code",
   "execution_count": null,
   "metadata": {},
   "outputs": [],
   "source": []
  }
 ],
 "metadata": {
  "kernelspec": {
   "display_name": "Python 3",
   "language": "python",
   "name": "python3"
  },
  "language_info": {
   "codemirror_mode": {
    "name": "ipython",
    "version": 3
   },
   "file_extension": ".py",
   "mimetype": "text/x-python",
   "name": "python",
   "nbconvert_exporter": "python",
   "pygments_lexer": "ipython3",
   "version": "3.8.5"
  }
 },
 "nbformat": 4,
 "nbformat_minor": 4
}
